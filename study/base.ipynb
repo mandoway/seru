{
 "cells": [
  {
   "metadata": {},
   "cell_type": "markdown",
   "source": [
    "# Base study\n",
    "\n",
    "This file contains code to run the evaluation for the base study for all instances\n",
    "\n",
    "Evaluation runs:\n",
    "- Baseline with Perses & Vulcan\n",
    "- SeRu with Perses & Vulcan"
   ]
  },
  {
   "metadata": {},
   "cell_type": "markdown",
   "source": "## Setup"
  },
  {
   "metadata": {
    "ExecuteTime": {
     "end_time": "2024-10-22T09:27:59.048215Z",
     "start_time": "2024-10-22T09:27:58.153499Z"
    }
   },
   "cell_type": "code",
   "source": [
    "%useLatestDescriptors\n",
    "%use coroutines"
   ],
   "outputs": [],
   "execution_count": 1
  },
  {
   "metadata": {
    "ExecuteTime": {
     "end_time": "2024-10-22T09:28:02.144864Z",
     "start_time": "2024-10-22T09:28:01.474419Z"
    }
   },
   "cell_type": "code",
   "source": [
    "import java.io.File\n",
    "import kotlin.io.path.Path\n",
    "import kotlin.io.path.listDirectoryEntries\n",
    "import kotlin.io.path.walk\n",
    "import java.io.IOException\n",
    "import java.util.concurrent.TimeUnit\n",
    "\n",
    "val ignoredIssues = listOf(\"issue_2\", \"issue_2490\")\n",
    "val instances = File(\"instances\")\n",
    "    .walk()\n",
    "    .filter { it.isDirectory && (it.name.startsWith(\"f\") || it.name.startsWith(\"v\")) }\n",
    "    .filter { ignoredIssues.all { issue -> !it.parent.endsWith(issue) } }\n",
    "    .map { it.toPath() }\n",
    "\n",
    "data class CommandOutput(val stdout: String, val stderr: String)\n",
    "\n",
    "fun String.runCommand(workingDir: File): CommandOutput? = runBlocking(Dispatchers.IO) {\n",
    "    withTimeout(5.minutes) {\n",
    "        val proc = ProcessBuilder(*split(\" \").toTypedArray()).directory(workingDir).start()\n",
    "\n",
    "        try {\n",
    "            val stdout = async { runInterruptible { proc.inputReader().use { it.readText() } } }\n",
    "            val stderr = async { runInterruptible { proc.errorReader().use { it.readText() } } }\n",
    "\n",
    "            runInterruptible { proc.waitFor() }\n",
    "\n",
    "            CommandOutput(stdout = stdout.await(), stderr = stderr.await())\n",
    "        } catch (e: IOException) {\n",
    "            e.printStackTrace()\n",
    "            null\n",
    "        } finally {\n",
    "            proc.destroy()\n",
    "        }\n",
    "    }\n",
    "}\n",
    "\n",
    "fun String.runCommandInRoot() = runCommand(File(\"..\"))"
   ],
   "outputs": [],
   "execution_count": 2
  },
  {
   "metadata": {},
   "cell_type": "markdown",
   "source": "## Compile SeRu"
  },
  {
   "metadata": {
    "ExecuteTime": {
     "end_time": "2024-10-21T20:32:47.880068Z",
     "start_time": "2024-10-21T20:32:41.766005Z"
    }
   },
   "cell_type": "code",
   "source": [
    "\"go generate ./...\".runCommandInRoot()\n",
    "\"go build\".runCommandInRoot()"
   ],
   "outputs": [
    {
     "data": {
      "text/plain": [
       "CommandOutput(stdout=, stderr=)"
      ]
     },
     "execution_count": 27,
     "metadata": {},
     "output_type": "execute_result"
    }
   ],
   "execution_count": 27
  },
  {
   "metadata": {},
   "cell_type": "markdown",
   "source": "## Run SeRu"
  },
  {
   "metadata": {
    "ExecuteTime": {
     "end_time": "2024-10-22T09:28:21.795290Z",
     "start_time": "2024-10-22T09:28:21.663664Z"
    }
   },
   "cell_type": "code",
   "source": [
    "import java.nio.file.Path\n",
    "import kotlin.io.path.div\n",
    "import kotlin.io.path.pathString\n",
    "\n",
    "val Path.firstCueFile get() = this / listDirectoryEntries(glob = \"*.cue\").first().fileName\n",
    "val Path.firstScriptFile get() = this / listDirectoryEntries(glob = \"*.sh\").first().fileName\n",
    "fun seruBaseCommand(studyDir: Path, instance: Path) = \"./seru -i ${studyDir / instance.firstCueFile} -t ${studyDir / instance.firstScriptFile} -m\" \n",
    "fun runSeruPersesIn(studyDir: Path, instance: Path) = seruBaseCommand(studyDir, instance).runCommandInRoot()\n",
    "fun runSeruVulcanIn(studyDir: Path, instance: Path) = (seruBaseCommand(studyDir, instance) + \" -r vulcan\").runCommandInRoot()"
   ],
   "outputs": [],
   "execution_count": 4
  },
  {
   "metadata": {
    "ExecuteTime": {
     "end_time": "2024-10-22T09:28:28.880891Z",
     "start_time": "2024-10-22T09:28:28.597896Z"
    }
   },
   "cell_type": "code",
   "source": [
    "import kotlin.io.path.*\n",
    "\n",
    "val runsPerInstance = 5\n",
    "val totalRuns = instances.toList().size * runsPerInstance\n",
    "val studyPath = Path(\"study\")\n",
    "\n",
    "fun moveLatestSeruResultTo(dir: Path) = Path(\"..\")\n",
    "    .listDirectoryEntries(glob = \"seru*\")\n",
    "    .maxBy { it.getLastModifiedTime() }\n",
    "    .moveTo(dir / \"seru_result\")\n",
    "\n",
    "fun saveLogsIfExisting(dir: Path, logs: CommandOutput?) = logs?.let {\n",
    "    (dir / \"log.txt\").writeBytes(it.stdout.toByteArray())\n",
    "    (dir / \"err.txt\").writeBytes(it.stderr.toByteArray())\n",
    "}\n",
    "\n",
    "fun runAllInstances(outputDir: String, runCmd: (Path, Path) -> CommandOutput?) = instances\n",
    "    .forEachIndexed { index, instance ->\n",
    "        val instanceOutputPath = Path(outputDir) / instance\n",
    "        repeat(runsPerInstance) {\n",
    "            val instanceDir = (instanceOutputPath / \"run_$it\").createDirectories()\n",
    "            val cur = it + (index * runsPerInstance)\n",
    "            println(\"$cur/$totalRuns - Start run for $instanceDir\")\n",
    "\n",
    "            val output = runCmd(studyPath, instance)\n",
    "\n",
    "            moveLatestSeruResultTo(instanceDir)\n",
    "            saveLogsIfExisting(instanceDir, output)\n",
    "        }\n",
    "    }"
   ],
   "outputs": [],
   "execution_count": 5
  },
  {
   "metadata": {},
   "cell_type": "markdown",
   "source": [
    "#### SeRu + Perses (all instances)\n",
    "\n",
    "Takes around 40m (M1 MacBook Pro)"
   ]
  },
  {
   "metadata": {
    "ExecuteTime": {
     "end_time": "2024-10-21T22:36:14.297496Z",
     "start_time": "2024-10-21T21:16:19.464128Z"
    }
   },
   "cell_type": "code",
   "source": "runAllInstances(\"results_perses\", ::runSeruPersesIn)",
   "outputs": [
    {
     "name": "stdout",
     "output_type": "stream",
     "text": [
      "0/80 - Start run for /Users/markus/Documents/UniProjects/MA/seru/study/results_perses/instances/extra/issue_2_inlined/final/run_0\n",
      "1/80 - Start run for results_perses/instances/extra/issue_2_inlined/final/run_1\n",
      "2/80 - Start run for results_perses/instances/extra/issue_2_inlined/final/run_2\n",
      "3/80 - Start run for results_perses/instances/extra/issue_2_inlined/final/run_3\n",
      "4/80 - Start run for results_perses/instances/extra/issue_2_inlined/final/run_4\n",
      "5/80 - Start run for /Users/markus/Documents/UniProjects/MA/seru/study/results_perses/instances/panic/issue_2584/v1/run_0\n",
      "6/80 - Start run for results_perses/instances/panic/issue_2584/v1/run_1\n",
      "7/80 - Start run for results_perses/instances/panic/issue_2584/v1/run_2\n",
      "8/80 - Start run for results_perses/instances/panic/issue_2584/v1/run_3\n",
      "9/80 - Start run for results_perses/instances/panic/issue_2584/v1/run_4\n",
      "10/80 - Start run for /Users/markus/Documents/UniProjects/MA/seru/study/results_perses/instances/panic/issue_2584/v2/run_0\n",
      "11/80 - Start run for results_perses/instances/panic/issue_2584/v2/run_1\n",
      "12/80 - Start run for results_perses/instances/panic/issue_2584/v2/run_2\n",
      "13/80 - Start run for results_perses/instances/panic/issue_2584/v2/run_3\n",
      "14/80 - Start run for results_perses/instances/panic/issue_2584/v2/run_4\n",
      "15/80 - Start run for /Users/markus/Documents/UniProjects/MA/seru/study/results_perses/instances/panic/issue_2584/final/run_0\n",
      "16/80 - Start run for results_perses/instances/panic/issue_2584/final/run_1\n",
      "17/80 - Start run for results_perses/instances/panic/issue_2584/final/run_2\n",
      "18/80 - Start run for results_perses/instances/panic/issue_2584/final/run_3\n",
      "19/80 - Start run for results_perses/instances/panic/issue_2584/final/run_4\n",
      "20/80 - Start run for /Users/markus/Documents/UniProjects/MA/seru/study/results_perses/instances/panic/issue_2490_inlined/v1/run_0\n",
      "21/80 - Start run for results_perses/instances/panic/issue_2490_inlined/v1/run_1\n",
      "22/80 - Start run for results_perses/instances/panic/issue_2490_inlined/v1/run_2\n"
     ]
    },
    {
     "ename": "org.jetbrains.kotlinx.jupyter.exceptions.ReplInterruptedException",
     "evalue": "The execution was interrupted",
     "output_type": "error",
     "traceback": []
    }
   ],
   "execution_count": 31
  },
  {
   "metadata": {},
   "cell_type": "markdown",
   "source": "#### SeRu + Vulcan (all instances)"
  },
  {
   "metadata": {},
   "cell_type": "code",
   "outputs": [],
   "execution_count": null,
   "source": "runAllInstances(\"results_vulcan\", ::runSeruVulcanIn)"
  },
  {
   "metadata": {},
   "cell_type": "markdown",
   "source": ""
  },
  {
   "metadata": {},
   "cell_type": "code",
   "outputs": [],
   "execution_count": null,
   "source": ""
  }
 ],
 "metadata": {
  "kernelspec": {
   "display_name": "Kotlin",
   "language": "kotlin",
   "name": "kotlin"
  },
  "language_info": {
   "name": "kotlin",
   "version": "1.9.23",
   "mimetype": "text/x-kotlin",
   "file_extension": ".kt",
   "pygments_lexer": "kotlin",
   "codemirror_mode": "text/x-kotlin",
   "nbconvert_exporter": ""
  }
 },
 "nbformat": 4,
 "nbformat_minor": 0
}
