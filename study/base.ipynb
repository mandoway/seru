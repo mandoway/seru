{
 "cells": [
  {
   "metadata": {},
   "cell_type": "markdown",
   "source": [
    "# Base study\n",
    "\n",
    "This file contains code to run the evaluation for the base study for all instances\n",
    "\n",
    "Evaluation runs:\n",
    "- Baseline with Perses & Vulcan\n",
    "- SeRu with Perses & Vulcan"
   ]
  },
  {
   "metadata": {},
   "cell_type": "markdown",
   "source": "## Setup"
  },
  {
   "metadata": {
    "ExecuteTime": {
     "end_time": "2024-10-21T20:14:35.520488Z",
     "start_time": "2024-10-21T20:14:34.916124Z"
    }
   },
   "cell_type": "code",
   "source": [
    "import java.io.File\n",
    "import kotlin.io.path.Path\n",
    "import kotlin.io.path.listDirectoryEntries\n",
    "import kotlin.io.path.walk\n",
    "import java.io.IOException\n",
    "import java.util.concurrent.TimeUnit\n",
    "\n",
    "val ignoredIssues = listOf(\"issue_2\", \"issue_2490\")\n",
    "val instances = File(\"instances\")\n",
    "    .walk()\n",
    "    .filter { it.isDirectory && (it.name.startsWith(\"f\") || it.name.startsWith(\"v\")) }\n",
    "    .filter { ignoredIssues.all { issue -> !it.parent.endsWith(issue) } }\n",
    "    .map { it.toPath() }\n",
    "\n",
    "data class CommandOutput(val stdout: String, val stderr: String)\n",
    "\n",
    "fun String.runCommand(workingDir: File): CommandOutput? {\n",
    "    return try {\n",
    "        ProcessBuilder(*split(\" \").toTypedArray())\n",
    "            .directory(workingDir)\n",
    "            .redirectOutput(ProcessBuilder.Redirect.PIPE)\n",
    "            .redirectError(ProcessBuilder.Redirect.PIPE)\n",
    "            .start()\n",
    "            .also { it.waitFor(60, TimeUnit.MINUTES) }\n",
    "            .let {\n",
    "                CommandOutput(\n",
    "                    stdout = it.inputStream.bufferedReader().readText(),\n",
    "                    stderr = it.errorStream.bufferedReader().readText()\n",
    "                )\n",
    "            }\n",
    "    } catch (e: IOException) {\n",
    "        e.printStackTrace()\n",
    "        null\n",
    "    }\n",
    "}\n",
    "\n",
    "fun String.runCommandInRoot() = runCommand(File(\"..\"))"
   ],
   "outputs": [],
   "execution_count": 5
  },
  {
   "metadata": {},
   "cell_type": "markdown",
   "source": "## Compile SeRu"
  },
  {
   "metadata": {
    "ExecuteTime": {
     "end_time": "2024-10-21T20:14:45.708359Z",
     "start_time": "2024-10-21T20:14:39.350083Z"
    }
   },
   "cell_type": "code",
   "source": [
    "\"go generate ./...\".runCommandInRoot()\n",
    "\"go build\".runCommandInRoot()"
   ],
   "outputs": [
    {
     "data": {
      "text/plain": [
       "CommandOutput(stdout=, stderr=)"
      ]
     },
     "execution_count": 6,
     "metadata": {},
     "output_type": "execute_result"
    }
   ],
   "execution_count": 6
  },
  {
   "metadata": {},
   "cell_type": "markdown",
   "source": "## Run SeRu"
  },
  {
   "metadata": {
    "ExecuteTime": {
     "end_time": "2024-10-21T20:26:04.542529Z",
     "start_time": "2024-10-21T20:26:04.467967Z"
    }
   },
   "cell_type": "code",
   "source": [
    "import java.nio.file.Path\n",
    "import kotlin.io.path.pathString\n",
    "\n",
    "val Path.firstCueFile get() = this / listDirectoryEntries(glob = \"*.cue\").first().fileName\n",
    "val Path.firstScriptFile get() = this / listDirectoryEntries(glob = \"*.sh\").first().fileName\n",
    "fun seruBaseCommand(studyDir: Path, instance: Path) = \"./seru -i ${studyDir / instance.firstCueFile} -t ${studyDir / instance.firstScriptFile} -m\" \n",
    "fun runSeruPersesIn(studyDir: Path, instance: Path) = seruBaseCommand(studyDir, instance).runCommandInRoot()\n",
    "fun runSeruVulcanIn(studyDir: Path, instance: Path) = (seruBaseCommand(studyDir, instance) + \" -r vulcan\").runCommandInRoot()"
   ],
   "outputs": [],
   "execution_count": 21
  },
  {
   "metadata": {
    "ExecuteTime": {
     "end_time": "2024-10-21T20:26:05.021738Z",
     "start_time": "2024-10-21T20:26:04.872663Z"
    }
   },
   "cell_type": "code",
   "source": [
    "import kotlin.io.path.*\n",
    "\n",
    "val runsPerInstance = 5\n",
    "val totalRuns = instances.toList().size * runsPerInstance\n",
    "\n",
    "fun moveLatestSeruResultTo(dir: Path) = Path(\"..\")\n",
    "    .listDirectoryEntries(glob = \"seru*\")\n",
    "    .maxBy { it.getLastModifiedTime() }\n",
    "    .moveTo(dir / \"seru_result\")\n",
    "\n",
    "fun saveLogsIfExisting(dir: Path, logs: CommandOutput?) = logs?.let {\n",
    "    (dir / \"log.txt\").writeBytes(it.stdout.toByteArray())\n",
    "    (dir / \"err.txt\").writeBytes(it.stderr.toByteArray())\n",
    "}\n",
    "\n",
    "fun runAllInstances(outputDir: String, runCmd: (Path, Path) -> CommandOutput?) = instances\n",
    "    .forEachIndexed { index, instance ->\n",
    "        repeat(runsPerInstance) {\n",
    "            val instanceDir = (Path(outputDir) / instance / \"run_$it\").createDirectories()\n",
    "            val cur = it + (index * runsPerInstance)\n",
    "            println(\"$cur/$totalRuns - Start run for $instanceDir\")\n",
    "\n",
    "            val output = runCmd(Path(\"study\"), instance)\n",
    "\n",
    "            moveLatestSeruResultTo(instanceDir)\n",
    "            saveLogsIfExisting(instanceDir, output)\n",
    "        }\n",
    "    }"
   ],
   "outputs": [],
   "execution_count": 22
  },
  {
   "metadata": {},
   "cell_type": "markdown",
   "source": [
    "#### SeRu + Perses (all instances)\n",
    "\n",
    "Takes around 40m (M1 MacBook Pro)"
   ]
  },
  {
   "metadata": {
    "ExecuteTime": {
     "end_time": "2024-10-21T20:26:48.177750Z",
     "start_time": "2024-10-21T20:26:17.599809Z"
    }
   },
   "cell_type": "code",
   "source": "runAllInstances(\"results_perses\", ::runSeruPersesIn)",
   "outputs": [
    {
     "name": "stdout",
     "output_type": "stream",
     "text": [
      "0/80 - Start run for results_perses/instances/extra/issue_2_inlined/final/run_0\n"
     ]
    },
    {
     "ename": "java.nio.file.FileAlreadyExistsException",
     "evalue": "results_perses/instances/extra/issue_2_inlined/final/run_0/seru_result",
     "output_type": "error",
     "traceback": [
      "java.nio.file.FileAlreadyExistsException: results_perses/instances/extra/issue_2_inlined/final/run_0/seru_result",
      "\tat java.base/sun.nio.fs.UnixFileSystem.move(UnixFileSystem.java:907)",
      "\tat java.base/sun.nio.fs.UnixFileSystemProvider.move(UnixFileSystemProvider.java:309)",
      "\tat java.base/java.nio.file.Files.move(Files.java:1429)",
      "\tat Line_23_jupyter.moveLatestSeruResultTo(Line_23.jupyter.kts:9) at Cell In[22], line 9",
      "\tat Line_23_jupyter.runAllInstances(Line_23.jupyter.kts:25) at Cell In[22], line 25",
      "\tat Line_25_jupyter.<init>(Line_25.jupyter.kts:1) at Cell In[24], line 1",
      "\tat java.base/jdk.internal.reflect.DirectConstructorHandleAccessor.newInstance(DirectConstructorHandleAccessor.java:67)",
      "\tat java.base/java.lang.reflect.Constructor.newInstanceWithCaller(Constructor.java:500)",
      "\tat java.base/java.lang.reflect.Constructor.newInstance(Constructor.java:484)",
      "\tat kotlin.script.experimental.jvm.BasicJvmScriptEvaluator.evalWithConfigAndOtherScriptsResults(BasicJvmScriptEvaluator.kt:122)",
      "\tat kotlin.script.experimental.jvm.BasicJvmScriptEvaluator.invoke$suspendImpl(BasicJvmScriptEvaluator.kt:48)",
      "\tat kotlin.script.experimental.jvm.BasicJvmScriptEvaluator.invoke(BasicJvmScriptEvaluator.kt)",
      "\tat kotlin.script.experimental.jvm.BasicJvmReplEvaluator.eval(BasicJvmReplEvaluator.kt:49)",
      "\tat org.jetbrains.kotlinx.jupyter.repl.impl.InternalEvaluatorImpl$eval$resultWithDiagnostics$1.invokeSuspend(InternalEvaluatorImpl.kt:133)",
      "\tat kotlin.coroutines.jvm.internal.BaseContinuationImpl.resumeWith(ContinuationImpl.kt:33)",
      "\tat kotlinx.coroutines.DispatchedTask.run(DispatchedTask.kt:104)",
      "\tat kotlinx.coroutines.EventLoopImplBase.processNextEvent(EventLoop.common.kt:277)",
      "\tat kotlinx.coroutines.BlockingCoroutine.joinBlocking(Builders.kt:95)",
      "\tat kotlinx.coroutines.BuildersKt__BuildersKt.runBlocking(Builders.kt:69)",
      "\tat kotlinx.coroutines.BuildersKt.runBlocking(Unknown Source)",
      "\tat kotlinx.coroutines.BuildersKt__BuildersKt.runBlocking$default(Builders.kt:48)",
      "\tat kotlinx.coroutines.BuildersKt.runBlocking$default(Unknown Source)",
      "\tat org.jetbrains.kotlinx.jupyter.repl.impl.InternalEvaluatorImpl.eval(InternalEvaluatorImpl.kt:133)",
      "\tat org.jetbrains.kotlinx.jupyter.repl.impl.CellExecutorImpl$execute$1$result$1.invoke(CellExecutorImpl.kt:80)",
      "\tat org.jetbrains.kotlinx.jupyter.repl.impl.CellExecutorImpl$execute$1$result$1.invoke(CellExecutorImpl.kt:78)",
      "\tat org.jetbrains.kotlinx.jupyter.repl.impl.ReplForJupyterImpl.withHost(ReplForJupyterImpl.kt:742)",
      "\tat org.jetbrains.kotlinx.jupyter.repl.impl.CellExecutorImpl.execute-L4Nmkdk(CellExecutorImpl.kt:78)",
      "\tat org.jetbrains.kotlinx.jupyter.repl.execution.CellExecutor$DefaultImpls.execute-L4Nmkdk$default(CellExecutor.kt:13)",
      "\tat org.jetbrains.kotlinx.jupyter.repl.impl.ReplForJupyterImpl.evaluateUserCode-wNURfNM(ReplForJupyterImpl.kt:565)",
      "\tat org.jetbrains.kotlinx.jupyter.repl.impl.ReplForJupyterImpl.evalExImpl(ReplForJupyterImpl.kt:423)",
      "\tat org.jetbrains.kotlinx.jupyter.repl.impl.ReplForJupyterImpl.access$evalExImpl(ReplForJupyterImpl.kt:139)",
      "\tat org.jetbrains.kotlinx.jupyter.repl.impl.ReplForJupyterImpl$evalEx$1.invoke(ReplForJupyterImpl.kt:416)",
      "\tat org.jetbrains.kotlinx.jupyter.repl.impl.ReplForJupyterImpl$evalEx$1.invoke(ReplForJupyterImpl.kt:415)",
      "\tat org.jetbrains.kotlinx.jupyter.repl.impl.ReplForJupyterImpl.withEvalContext(ReplForJupyterImpl.kt:396)",
      "\tat org.jetbrains.kotlinx.jupyter.repl.impl.ReplForJupyterImpl.evalEx(ReplForJupyterImpl.kt:415)",
      "\tat org.jetbrains.kotlinx.jupyter.messaging.IdeCompatibleMessageRequestProcessor$processExecuteRequest$1$response$1$1.invoke(IdeCompatibleMessageRequestProcessor.kt:170)",
      "\tat org.jetbrains.kotlinx.jupyter.messaging.IdeCompatibleMessageRequestProcessor$processExecuteRequest$1$response$1$1.invoke(IdeCompatibleMessageRequestProcessor.kt:169)",
      "\tat org.jetbrains.kotlinx.jupyter.streams.BlockingSubstitutionEngine.withDataSubstitution(SubstitutionEngine.kt:70)",
      "\tat org.jetbrains.kotlinx.jupyter.streams.StreamSubstitutionManager.withSubstitutedStreams(StreamSubstitutionManager.kt:118)",
      "\tat org.jetbrains.kotlinx.jupyter.messaging.IdeCompatibleMessageRequestProcessor.withForkedIn(IdeCompatibleMessageRequestProcessor.kt:342)",
      "\tat org.jetbrains.kotlinx.jupyter.messaging.IdeCompatibleMessageRequestProcessor.access$withForkedIn(IdeCompatibleMessageRequestProcessor.kt:66)",
      "\tat org.jetbrains.kotlinx.jupyter.messaging.IdeCompatibleMessageRequestProcessor$evalWithIO$1$1.invoke(IdeCompatibleMessageRequestProcessor.kt:356)",
      "\tat org.jetbrains.kotlinx.jupyter.streams.BlockingSubstitutionEngine.withDataSubstitution(SubstitutionEngine.kt:70)",
      "\tat org.jetbrains.kotlinx.jupyter.streams.StreamSubstitutionManager.withSubstitutedStreams(StreamSubstitutionManager.kt:118)",
      "\tat org.jetbrains.kotlinx.jupyter.messaging.IdeCompatibleMessageRequestProcessor.withForkedErr(IdeCompatibleMessageRequestProcessor.kt:331)",
      "\tat org.jetbrains.kotlinx.jupyter.messaging.IdeCompatibleMessageRequestProcessor.access$withForkedErr(IdeCompatibleMessageRequestProcessor.kt:66)",
      "\tat org.jetbrains.kotlinx.jupyter.messaging.IdeCompatibleMessageRequestProcessor$evalWithIO$1.invoke(IdeCompatibleMessageRequestProcessor.kt:355)",
      "\tat org.jetbrains.kotlinx.jupyter.streams.BlockingSubstitutionEngine.withDataSubstitution(SubstitutionEngine.kt:70)",
      "\tat org.jetbrains.kotlinx.jupyter.streams.StreamSubstitutionManager.withSubstitutedStreams(StreamSubstitutionManager.kt:118)",
      "\tat org.jetbrains.kotlinx.jupyter.messaging.IdeCompatibleMessageRequestProcessor.withForkedOut(IdeCompatibleMessageRequestProcessor.kt:323)",
      "\tat org.jetbrains.kotlinx.jupyter.messaging.IdeCompatibleMessageRequestProcessor.evalWithIO(IdeCompatibleMessageRequestProcessor.kt:354)",
      "\tat org.jetbrains.kotlinx.jupyter.messaging.IdeCompatibleMessageRequestProcessor$processExecuteRequest$1$response$1.invoke(IdeCompatibleMessageRequestProcessor.kt:169)",
      "\tat org.jetbrains.kotlinx.jupyter.messaging.IdeCompatibleMessageRequestProcessor$processExecuteRequest$1$response$1.invoke(IdeCompatibleMessageRequestProcessor.kt:168)",
      "\tat org.jetbrains.kotlinx.jupyter.execution.JupyterExecutorImpl$Task.execute(JupyterExecutorImpl.kt:41)",
      "\tat org.jetbrains.kotlinx.jupyter.execution.JupyterExecutorImpl$executorThread$1.invoke(JupyterExecutorImpl.kt:81)",
      "\tat org.jetbrains.kotlinx.jupyter.execution.JupyterExecutorImpl$executorThread$1.invoke(JupyterExecutorImpl.kt:79)",
      "\tat kotlin.concurrent.ThreadsKt$thread$thread$1.run(Thread.kt:30)",
      "",
      "java.nio.file.FileAlreadyExistsException: results_perses/instances/extra/issue_2_inlined/final/run_0/seru_result",
      "at Cell In[22], line 9",
      ""
     ]
    }
   ],
   "execution_count": 24
  },
  {
   "metadata": {},
   "cell_type": "markdown",
   "source": "#### SeRu + Vulcan (all instances)"
  },
  {
   "metadata": {},
   "cell_type": "code",
   "outputs": [],
   "execution_count": null,
   "source": "runAllInstances(\"results_vulcan\", ::runSeruVulcanIn)"
  },
  {
   "metadata": {},
   "cell_type": "markdown",
   "source": ""
  },
  {
   "metadata": {},
   "cell_type": "code",
   "outputs": [],
   "execution_count": null,
   "source": ""
  }
 ],
 "metadata": {
  "kernelspec": {
   "display_name": "Kotlin",
   "language": "kotlin",
   "name": "kotlin"
  },
  "language_info": {
   "name": "kotlin",
   "version": "1.9.23",
   "mimetype": "text/x-kotlin",
   "file_extension": ".kt",
   "pygments_lexer": "kotlin",
   "codemirror_mode": "text/x-kotlin",
   "nbconvert_exporter": ""
  }
 },
 "nbformat": 4,
 "nbformat_minor": 0
}
