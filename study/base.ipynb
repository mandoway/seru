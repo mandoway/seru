{
 "cells": [
  {
   "metadata": {},
   "cell_type": "markdown",
   "source": [
    "# Base study\n",
    "\n",
    "This file contains code to run the evaluation for the base study for all instances\n",
    "\n",
    "Evaluation runs:\n",
    "- Baseline with Perses & Vulcan\n",
    "- SeRu with Perses & Vulcan"
   ]
  },
  {
   "metadata": {},
   "cell_type": "markdown",
   "source": "## Setup"
  },
  {
   "metadata": {
    "ExecuteTime": {
     "end_time": "2024-10-19T21:27:59.240723Z",
     "start_time": "2024-10-19T21:27:58.696154Z"
    }
   },
   "cell_type": "code",
   "source": [
    "import java.io.File\n",
    "import kotlin.io.path.Path\n",
    "import kotlin.io.path.listDirectoryEntries\n",
    "import kotlin.io.path.walk\n",
    "import java.io.IOException\n",
    "import java.util.concurrent.TimeUnit\n",
    "\n",
    "val ignoredIssues = listOf(\"issue_2\", \"issue_2490\")\n",
    "val instances = File(\"instances\")\n",
    "    .walk()\n",
    "    .filter { it.isDirectory && (it.name.startsWith(\"f\") || it.name.startsWith(\"v\")) }\n",
    "    .filter { ignoredIssues.all { issue -> !it.parent.endsWith(issue) } }\n",
    "    .map { it.toPath() }\n",
    "\n",
    "data class CommandOutput(val stdout: String, val stderr: String)\n",
    "\n",
    "fun String.runCommand(workingDir: File): CommandOutput? {\n",
    "    return try {\n",
    "        ProcessBuilder(*split(\" \").toTypedArray())\n",
    "            .directory(workingDir)\n",
    "            .redirectOutput(ProcessBuilder.Redirect.PIPE)\n",
    "            .redirectError(ProcessBuilder.Redirect.PIPE)\n",
    "            .start()\n",
    "            .also { it.waitFor(60, TimeUnit.MINUTES) }\n",
    "            .let {\n",
    "                CommandOutput(\n",
    "                    stdout = it.inputStream.bufferedReader().readText(),\n",
    "                    stderr = it.errorStream.bufferedReader().readText()\n",
    "                )\n",
    "            }\n",
    "    } catch (e: IOException) {\n",
    "        e.printStackTrace()\n",
    "        null\n",
    "    }\n",
    "}\n",
    "\n",
    "fun String.runCommandInRoot() = runCommand(File(\"..\"))"
   ],
   "outputs": [],
   "execution_count": 2
  },
  {
   "metadata": {},
   "cell_type": "markdown",
   "source": "## Compile SeRu"
  },
  {
   "metadata": {
    "ExecuteTime": {
     "end_time": "2024-10-19T21:28:09.465008Z",
     "start_time": "2024-10-19T21:28:02.764577Z"
    }
   },
   "cell_type": "code",
   "source": [
    "\"go generate ./...\".runCommandInRoot()\n",
    "\"go build\".runCommandInRoot()"
   ],
   "outputs": [
    {
     "data": {
      "text/plain": [
       "CommandOutput(stdout=, stderr=)"
      ]
     },
     "execution_count": 3,
     "metadata": {},
     "output_type": "execute_result"
    }
   ],
   "execution_count": 3
  },
  {
   "metadata": {},
   "cell_type": "markdown",
   "source": "## Run SeRu"
  },
  {
   "metadata": {
    "ExecuteTime": {
     "end_time": "2024-10-19T21:30:48.016421Z",
     "start_time": "2024-10-19T21:30:47.882268Z"
    }
   },
   "cell_type": "code",
   "source": [
    "import java.nio.file.Path\n",
    "import kotlin.io.path.pathString\n",
    "\n",
    "// TODO use first cue file in folder instead of hardcoded \"in.cue\"\n",
    "fun runSeruPersesIn(folder: Path) = \"./seru -i ${folder.pathString}/in.cue -t ${folder.pathString}/test.sh -m\".runCommandInRoot()\n",
    "fun runSeruVulcanIn(folder: Path) = \"./seru -i ${folder.pathString}/in.cue -t ${folder.pathString}/test.sh -m -r vulcan\".runCommandInRoot()"
   ],
   "outputs": [],
   "execution_count": 4
  },
  {
   "metadata": {
    "ExecuteTime": {
     "end_time": "2024-10-19T21:37:48.457521Z",
     "start_time": "2024-10-19T21:37:48.218986Z"
    }
   },
   "cell_type": "code",
   "source": [
    "import kotlin.io.path.*\n",
    "\n",
    "val runsPerInstance = 5\n",
    "val totalRuns = instances.toList().size * runsPerInstance\n",
    "\n",
    "fun moveLatestSeruResultTo(dir: Path) = Path(\"..\")\n",
    "    .listDirectoryEntries(glob = \"seru*\")\n",
    "    .maxBy { it.getLastModifiedTime() }\n",
    "    .moveTo(dir / \"seru_result\")\n",
    "\n",
    "fun saveLogsIfExisting(dir: Path, logs: CommandOutput?) = logs?.let {\n",
    "    (dir / \"log.txt\").writeBytes(it.stdout.toByteArray())\n",
    "    (dir / \"err.txt\").writeBytes(it.stderr.toByteArray())\n",
    "}\n",
    "\n",
    "fun runAllInstances(outputDir: String, runCmd: (Path) -> CommandOutput?) = instances\n",
    "    .forEachIndexed { index, instance ->\n",
    "        repeat(runsPerInstance) {\n",
    "            val instanceDir = (Path(outputDir) / instance / \"run_$it\").createDirectories()\n",
    "            val cur = it + (index * runsPerInstance)\n",
    "            println(\"$cur/$totalRuns - Start run for $instanceDir\")\n",
    "\n",
    "            val output = runCmd(Path(\"study\") / instance)\n",
    "\n",
    "            moveLatestSeruResultTo(instanceDir)\n",
    "            saveLogsIfExisting(instanceDir, output)\n",
    "        }\n",
    "    }"
   ],
   "outputs": [],
   "execution_count": 6
  },
  {
   "metadata": {},
   "cell_type": "markdown",
   "source": [
    "#### SeRu + Perses (all instances)\n",
    "\n",
    "Takes around 40m (M1 MacBook Pro)"
   ]
  },
  {
   "metadata": {
    "ExecuteTime": {
     "end_time": "2024-10-19T22:19:31.371620Z",
     "start_time": "2024-10-19T21:38:05.677175Z"
    }
   },
   "cell_type": "code",
   "source": "runAllInstances(\"results_perses\", ::runSeruPersesIn)",
   "outputs": [
    {
     "name": "stdout",
     "output_type": "stream",
     "text": [
      "0/80 - Start run for /Users/markus/Documents/UniProjects/MA/seru/study/results_perses/instances/extra/issue_2_inlined/final/run_0\n",
      "1/80 - Start run for results_perses/instances/extra/issue_2_inlined/final/run_1\n",
      "2/80 - Start run for results_perses/instances/extra/issue_2_inlined/final/run_2\n",
      "3/80 - Start run for results_perses/instances/extra/issue_2_inlined/final/run_3\n",
      "4/80 - Start run for results_perses/instances/extra/issue_2_inlined/final/run_4\n",
      "5/80 - Start run for /Users/markus/Documents/UniProjects/MA/seru/study/results_perses/instances/panic/issue_2584/v1/run_0\n",
      "6/80 - Start run for results_perses/instances/panic/issue_2584/v1/run_1\n",
      "7/80 - Start run for results_perses/instances/panic/issue_2584/v1/run_2\n",
      "8/80 - Start run for results_perses/instances/panic/issue_2584/v1/run_3\n",
      "9/80 - Start run for results_perses/instances/panic/issue_2584/v1/run_4\n",
      "10/80 - Start run for /Users/markus/Documents/UniProjects/MA/seru/study/results_perses/instances/panic/issue_2584/v2/run_0\n",
      "11/80 - Start run for results_perses/instances/panic/issue_2584/v2/run_1\n",
      "12/80 - Start run for results_perses/instances/panic/issue_2584/v2/run_2\n",
      "13/80 - Start run for results_perses/instances/panic/issue_2584/v2/run_3\n",
      "14/80 - Start run for results_perses/instances/panic/issue_2584/v2/run_4\n",
      "15/80 - Start run for /Users/markus/Documents/UniProjects/MA/seru/study/results_perses/instances/panic/issue_2584/final/run_0\n",
      "16/80 - Start run for results_perses/instances/panic/issue_2584/final/run_1\n",
      "17/80 - Start run for results_perses/instances/panic/issue_2584/final/run_2\n",
      "18/80 - Start run for results_perses/instances/panic/issue_2584/final/run_3\n",
      "19/80 - Start run for results_perses/instances/panic/issue_2584/final/run_4\n",
      "20/80 - Start run for /Users/markus/Documents/UniProjects/MA/seru/study/results_perses/instances/panic/issue_2490_inlined/v1/run_0\n",
      "21/80 - Start run for results_perses/instances/panic/issue_2490_inlined/v1/run_1\n",
      "22/80 - Start run for results_perses/instances/panic/issue_2490_inlined/v1/run_2\n",
      "23/80 - Start run for results_perses/instances/panic/issue_2490_inlined/v1/run_3\n",
      "24/80 - Start run for results_perses/instances/panic/issue_2490_inlined/v1/run_4\n",
      "25/80 - Start run for /Users/markus/Documents/UniProjects/MA/seru/study/results_perses/instances/panic/issue_2490_inlined/v2/run_0\n",
      "26/80 - Start run for results_perses/instances/panic/issue_2490_inlined/v2/run_1\n",
      "27/80 - Start run for results_perses/instances/panic/issue_2490_inlined/v2/run_2\n",
      "28/80 - Start run for results_perses/instances/panic/issue_2490_inlined/v2/run_3\n",
      "29/80 - Start run for results_perses/instances/panic/issue_2490_inlined/v2/run_4\n",
      "30/80 - Start run for /Users/markus/Documents/UniProjects/MA/seru/study/results_perses/instances/panic/issue_2490_inlined/final/run_0\n",
      "31/80 - Start run for results_perses/instances/panic/issue_2490_inlined/final/run_1\n",
      "32/80 - Start run for results_perses/instances/panic/issue_2490_inlined/final/run_2\n",
      "33/80 - Start run for results_perses/instances/panic/issue_2490_inlined/final/run_3\n",
      "34/80 - Start run for results_perses/instances/panic/issue_2490_inlined/final/run_4\n",
      "35/80 - Start run for /Users/markus/Documents/UniProjects/MA/seru/study/results_perses/instances/semantic/issue_2218/v1/run_0\n",
      "36/80 - Start run for results_perses/instances/semantic/issue_2218/v1/run_1\n",
      "37/80 - Start run for results_perses/instances/semantic/issue_2218/v1/run_2\n",
      "38/80 - Start run for results_perses/instances/semantic/issue_2218/v1/run_3\n",
      "39/80 - Start run for results_perses/instances/semantic/issue_2218/v1/run_4\n",
      "40/80 - Start run for /Users/markus/Documents/UniProjects/MA/seru/study/results_perses/instances/semantic/issue_2218/v2/run_0\n",
      "41/80 - Start run for results_perses/instances/semantic/issue_2218/v2/run_1\n",
      "42/80 - Start run for results_perses/instances/semantic/issue_2218/v2/run_2\n",
      "43/80 - Start run for results_perses/instances/semantic/issue_2218/v2/run_3\n",
      "44/80 - Start run for results_perses/instances/semantic/issue_2218/v2/run_4\n",
      "45/80 - Start run for /Users/markus/Documents/UniProjects/MA/seru/study/results_perses/instances/semantic/issue_2218/final/run_0\n",
      "46/80 - Start run for results_perses/instances/semantic/issue_2218/final/run_1\n",
      "47/80 - Start run for results_perses/instances/semantic/issue_2218/final/run_2\n",
      "48/80 - Start run for results_perses/instances/semantic/issue_2218/final/run_3\n",
      "49/80 - Start run for results_perses/instances/semantic/issue_2218/final/run_4\n",
      "50/80 - Start run for /Users/markus/Documents/UniProjects/MA/seru/study/results_perses/instances/error/issue_2246/v1/run_0\n",
      "51/80 - Start run for results_perses/instances/error/issue_2246/v1/run_1\n",
      "52/80 - Start run for results_perses/instances/error/issue_2246/v1/run_2\n",
      "53/80 - Start run for results_perses/instances/error/issue_2246/v1/run_3\n",
      "54/80 - Start run for results_perses/instances/error/issue_2246/v1/run_4\n",
      "55/80 - Start run for /Users/markus/Documents/UniProjects/MA/seru/study/results_perses/instances/error/issue_2246/final/run_0\n",
      "56/80 - Start run for results_perses/instances/error/issue_2246/final/run_1\n",
      "57/80 - Start run for results_perses/instances/error/issue_2246/final/run_2\n",
      "58/80 - Start run for results_perses/instances/error/issue_2246/final/run_3\n",
      "59/80 - Start run for results_perses/instances/error/issue_2246/final/run_4\n",
      "60/80 - Start run for /Users/markus/Documents/UniProjects/MA/seru/study/results_perses/instances/error/issue_2473/v1/run_0\n",
      "61/80 - Start run for results_perses/instances/error/issue_2473/v1/run_1\n",
      "62/80 - Start run for results_perses/instances/error/issue_2473/v1/run_2\n",
      "63/80 - Start run for results_perses/instances/error/issue_2473/v1/run_3\n",
      "64/80 - Start run for results_perses/instances/error/issue_2473/v1/run_4\n",
      "65/80 - Start run for /Users/markus/Documents/UniProjects/MA/seru/study/results_perses/instances/error/issue_2473/final/run_0\n",
      "66/80 - Start run for results_perses/instances/error/issue_2473/final/run_1\n",
      "67/80 - Start run for results_perses/instances/error/issue_2473/final/run_2\n",
      "68/80 - Start run for results_perses/instances/error/issue_2473/final/run_3\n",
      "69/80 - Start run for results_perses/instances/error/issue_2473/final/run_4\n",
      "70/80 - Start run for /Users/markus/Documents/UniProjects/MA/seru/study/results_perses/instances/error/issue_2209/v1/run_0\n",
      "71/80 - Start run for results_perses/instances/error/issue_2209/v1/run_1\n",
      "72/80 - Start run for results_perses/instances/error/issue_2209/v1/run_2\n",
      "73/80 - Start run for results_perses/instances/error/issue_2209/v1/run_3\n",
      "74/80 - Start run for results_perses/instances/error/issue_2209/v1/run_4\n",
      "75/80 - Start run for /Users/markus/Documents/UniProjects/MA/seru/study/results_perses/instances/error/issue_2209/final/run_0\n",
      "76/80 - Start run for results_perses/instances/error/issue_2209/final/run_1\n",
      "77/80 - Start run for results_perses/instances/error/issue_2209/final/run_2\n",
      "78/80 - Start run for results_perses/instances/error/issue_2209/final/run_3\n",
      "79/80 - Start run for results_perses/instances/error/issue_2209/final/run_4\n"
     ]
    }
   ],
   "execution_count": 7
  },
  {
   "metadata": {},
   "cell_type": "markdown",
   "source": "#### SeRu + Vulcan (all instances)"
  },
  {
   "metadata": {},
   "cell_type": "code",
   "outputs": [],
   "execution_count": null,
   "source": "runAllInstances(\"results_vulcan\", ::runSeruVulcanIn)"
  },
  {
   "metadata": {},
   "cell_type": "markdown",
   "source": ""
  }
 ],
 "metadata": {
  "kernelspec": {
   "display_name": "Kotlin",
   "language": "kotlin",
   "name": "kotlin"
  },
  "language_info": {
   "name": "kotlin",
   "version": "1.9.23",
   "mimetype": "text/x-kotlin",
   "file_extension": ".kt",
   "pygments_lexer": "kotlin",
   "codemirror_mode": "text/x-kotlin",
   "nbconvert_exporter": ""
  }
 },
 "nbformat": 4,
 "nbformat_minor": 0
}
