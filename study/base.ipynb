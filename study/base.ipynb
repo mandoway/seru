{
 "cells": [
  {
   "metadata": {},
   "cell_type": "markdown",
   "source": [
    "# Base study\n",
    "\n",
    "This file contains code to run the evaluation for the base study for all instances\n",
    "\n",
    "Evaluation runs:\n",
    "- Baseline with Perses & Vulcan\n",
    "- SeRu with Perses & Vulcan"
   ]
  },
  {
   "metadata": {},
   "cell_type": "markdown",
   "source": "## Setup"
  },
  {
   "metadata": {
    "ExecuteTime": {
     "end_time": "2024-10-17T07:23:40.474116Z",
     "start_time": "2024-10-17T07:23:39.877914Z"
    }
   },
   "cell_type": "code",
   "source": [
    "import kotlin.io.path.Path\n",
    "import kotlin.io.path.listDirectoryEntries\n",
    "import kotlin.io.path.walk\n",
    "import java.io.IOException\n",
    "import java.util.concurrent.TimeUnit\n",
    "\n",
    "val ignoredIssues = listOf(\"issue_2\", \"issue_2490\")\n",
    "val instances = File(\"instances\")\n",
    "    .walk()\n",
    "    .filter { it.isDirectory && (it.name.startsWith(\"f\") || it.name.startsWith(\"v\")) }\n",
    "    .filter { ignoredIssues.all { issue -> !it.parent.endsWith(issue) } }\n",
    "    .map { it.toPath() }\n",
    "\n",
    "data class CommandOutput(val stdout: String, val stderr: String)\n",
    "\n",
    "fun String.runCommand(workingDir: File): CommandOutput? {\n",
    "    return try {\n",
    "        ProcessBuilder(*split(\" \").toTypedArray())\n",
    "            .directory(workingDir)\n",
    "            .redirectOutput(ProcessBuilder.Redirect.PIPE)\n",
    "            .redirectError(ProcessBuilder.Redirect.PIPE)\n",
    "            .start()\n",
    "            .also { it.waitFor(60, TimeUnit.MINUTES) }\n",
    "            .let {\n",
    "                CommandOutput(\n",
    "                    stdout = it.inputStream.bufferedReader().readText(),\n",
    "                    stderr = it.errorStream.bufferedReader().readText()\n",
    "                )\n",
    "            }\n",
    "    } catch (e: IOException) {\n",
    "        e.printStackTrace()\n",
    "        null\n",
    "    }\n",
    "}\n",
    "\n",
    "fun String.runCommandInRoot() = runCommand(File(\"..\"))"
   ],
   "outputs": [],
   "execution_count": 2
  },
  {
   "metadata": {},
   "cell_type": "markdown",
   "source": "## Compile SeRu"
  },
  {
   "metadata": {
    "ExecuteTime": {
     "end_time": "2024-10-16T18:30:40.362381Z",
     "start_time": "2024-10-16T18:30:39.753409Z"
    }
   },
   "cell_type": "code",
   "source": [
    "\"go generate ./...\".runCommandInRoot()\n",
    "\"go build\".runCommandInRoot()"
   ],
   "outputs": [
    {
     "data": {
      "text/plain": []
     },
     "execution_count": 41,
     "metadata": {},
     "output_type": "execute_result"
    }
   ],
   "execution_count": 41
  },
  {
   "metadata": {},
   "cell_type": "markdown",
   "source": "## Run SeRu"
  },
  {
   "metadata": {
    "ExecuteTime": {
     "end_time": "2024-10-17T07:24:38.039971Z",
     "start_time": "2024-10-17T07:24:37.998602Z"
    }
   },
   "cell_type": "code",
   "source": [
    "import java.nio.file.Path\n",
    "import kotlin.io.path.pathString\n",
    "\n",
    "fun runSeruIn(folder: Path) = \"./seru -i ${folder.pathString}/in.cue -t ${folder.pathString}/test.sh -m\".runCommandInRoot()"
   ],
   "outputs": [],
   "execution_count": 4
  },
  {
   "metadata": {
    "ExecuteTime": {
     "end_time": "2024-10-17T07:36:11.724369Z",
     "start_time": "2024-10-17T07:28:43.868848Z"
    }
   },
   "cell_type": "code",
   "source": [
    "import kotlin.io.path.*\n",
    "\n",
    "val results = Path(\"results\").createDirectory()\n",
    "val runsPerInstance = 5\n",
    "val totalRuns = instances.toList().size * runsPerInstance\n",
    "\n",
    "fun moveLatestSeruResultTo(dir: Path) = Path(\"..\")\n",
    "    .listDirectoryEntries(glob = \"seru*\")\n",
    "    .maxBy { it.getLastModifiedTime() }\n",
    "    .moveTo(dir / \"seru_result\")\n",
    "\n",
    "fun saveLogsIfExisting(dir: Path, logs: CommandOutput?) = logs?.let {\n",
    "    (dir / \"log.txt\").writeBytes(it.stdout.toByteArray())\n",
    "    (dir / \"err.txt\").writeBytes(it.stderr.toByteArray())\n",
    "} \n",
    "\n",
    "instances.forEachIndexed { index, instance ->\n",
    "    repeat(runsPerInstance) {\n",
    "        val instanceDir = (results / instance / \"run_$it\").createDirectories()\n",
    "        val cur = it + (index * runsPerInstance)\n",
    "        println(\"$cur/$totalRuns - Start run for $instanceDir\")\n",
    "        \n",
    "        val output = runSeruIn(Path(\"study\") / instance)\n",
    "        \n",
    "        moveLatestSeruResultTo(instanceDir)\n",
    "        saveLogsIfExisting(instanceDir, output)\n",
    "    }\n",
    "}"
   ],
   "outputs": [
    {
     "name": "stdout",
     "output_type": "stream",
     "text": [
      "Creating /Users/markus/Documents/UniProjects/MA/seru/study/results/instances/extra/issue_2_inlined/final/run_0\n",
      "Creating results/instances/extra/issue_2_inlined/final/run_1\n",
      "Creating results/instances/extra/issue_2_inlined/final/run_2\n",
      "Creating /Users/markus/Documents/UniProjects/MA/seru/study/results/instances/panic/issue_2584/v1/run_0\n",
      "Creating results/instances/panic/issue_2584/v1/run_1\n",
      "Creating results/instances/panic/issue_2584/v1/run_2\n",
      "Creating /Users/markus/Documents/UniProjects/MA/seru/study/results/instances/panic/issue_2584/v2/run_0\n",
      "Creating results/instances/panic/issue_2584/v2/run_1\n",
      "Creating results/instances/panic/issue_2584/v2/run_2\n",
      "Creating /Users/markus/Documents/UniProjects/MA/seru/study/results/instances/panic/issue_2584/final/run_0\n",
      "Creating results/instances/panic/issue_2584/final/run_1\n",
      "Creating results/instances/panic/issue_2584/final/run_2\n",
      "Creating /Users/markus/Documents/UniProjects/MA/seru/study/results/instances/panic/issue_2490_inlined/v1/run_0\n",
      "Creating results/instances/panic/issue_2490_inlined/v1/run_1\n",
      "Creating results/instances/panic/issue_2490_inlined/v1/run_2\n",
      "Creating /Users/markus/Documents/UniProjects/MA/seru/study/results/instances/panic/issue_2490_inlined/v2/run_0\n",
      "Creating results/instances/panic/issue_2490_inlined/v2/run_1\n",
      "Creating results/instances/panic/issue_2490_inlined/v2/run_2\n",
      "Creating /Users/markus/Documents/UniProjects/MA/seru/study/results/instances/panic/issue_2490_inlined/final/run_0\n",
      "Creating results/instances/panic/issue_2490_inlined/final/run_1\n",
      "Creating results/instances/panic/issue_2490_inlined/final/run_2\n",
      "Creating /Users/markus/Documents/UniProjects/MA/seru/study/results/instances/semantic/issue_2218/v1/run_0\n",
      "Creating results/instances/semantic/issue_2218/v1/run_1\n",
      "Creating results/instances/semantic/issue_2218/v1/run_2\n",
      "Creating /Users/markus/Documents/UniProjects/MA/seru/study/results/instances/semantic/issue_2218/v2/run_0\n",
      "Creating results/instances/semantic/issue_2218/v2/run_1\n",
      "Creating results/instances/semantic/issue_2218/v2/run_2\n",
      "Creating /Users/markus/Documents/UniProjects/MA/seru/study/results/instances/semantic/issue_2218/final/run_0\n",
      "Creating results/instances/semantic/issue_2218/final/run_1\n",
      "Creating results/instances/semantic/issue_2218/final/run_2\n",
      "Creating /Users/markus/Documents/UniProjects/MA/seru/study/results/instances/error/issue_2246/v1/run_0\n",
      "Creating results/instances/error/issue_2246/v1/run_1\n",
      "Creating results/instances/error/issue_2246/v1/run_2\n",
      "Creating /Users/markus/Documents/UniProjects/MA/seru/study/results/instances/error/issue_2246/final/run_0\n",
      "Creating results/instances/error/issue_2246/final/run_1\n",
      "Creating results/instances/error/issue_2246/final/run_2\n",
      "Creating /Users/markus/Documents/UniProjects/MA/seru/study/results/instances/error/issue_2473/v1/run_0\n",
      "Creating results/instances/error/issue_2473/v1/run_1\n",
      "Creating results/instances/error/issue_2473/v1/run_2\n",
      "Creating /Users/markus/Documents/UniProjects/MA/seru/study/results/instances/error/issue_2473/final/run_0\n",
      "Creating results/instances/error/issue_2473/final/run_1\n",
      "Creating results/instances/error/issue_2473/final/run_2\n",
      "Creating /Users/markus/Documents/UniProjects/MA/seru/study/results/instances/error/issue_2209/v1/run_0\n",
      "Creating results/instances/error/issue_2209/v1/run_1\n",
      "Creating results/instances/error/issue_2209/v1/run_2\n",
      "Creating /Users/markus/Documents/UniProjects/MA/seru/study/results/instances/error/issue_2209/final/run_0\n",
      "Creating results/instances/error/issue_2209/final/run_1\n",
      "Creating results/instances/error/issue_2209/final/run_2\n"
     ]
    }
   ],
   "execution_count": 6
  },
  {
   "metadata": {
    "ExecuteTime": {
     "end_time": "2024-10-17T07:28:22.049697Z",
     "start_time": "2024-10-17T07:28:21.997386Z"
    }
   },
   "cell_type": "code",
   "source": "",
   "outputs": [
    {
     "data": {
      "text/plain": [
       ".."
      ]
     },
     "execution_count": 5,
     "metadata": {},
     "output_type": "execute_result"
    }
   ],
   "execution_count": 5
  }
 ],
 "metadata": {
  "kernelspec": {
   "display_name": "Kotlin",
   "language": "kotlin",
   "name": "kotlin"
  },
  "language_info": {
   "name": "kotlin",
   "version": "1.9.23",
   "mimetype": "text/x-kotlin",
   "file_extension": ".kt",
   "pygments_lexer": "kotlin",
   "codemirror_mode": "text/x-kotlin",
   "nbconvert_exporter": ""
  }
 },
 "nbformat": 4,
 "nbformat_minor": 0
}
