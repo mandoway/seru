{
 "cells": [
  {
   "metadata": {},
   "cell_type": "markdown",
   "source": [
    "# Base study\n",
    "\n",
    "This file contains code to run the evaluation for the base study for all instances\n",
    "\n",
    "Evaluation runs:\n",
    "- Baseline with Perses & Vulcan\n",
    "- SeRu with Perses & Vulcan"
   ]
  },
  {
   "metadata": {},
   "cell_type": "markdown",
   "source": "## Setup"
  },
  {
   "metadata": {
    "ExecuteTime": {
     "end_time": "2024-10-29T17:50:51.798394Z",
     "start_time": "2024-10-29T17:50:49.693818Z"
    }
   },
   "cell_type": "code",
   "source": [
    "%useLatestDescriptors\n",
    "%use coroutines"
   ],
   "outputs": [],
   "execution_count": 1
  },
  {
   "metadata": {
    "ExecuteTime": {
     "end_time": "2024-10-29T17:50:54.947545Z",
     "start_time": "2024-10-29T17:50:54.053606Z"
    }
   },
   "cell_type": "code",
   "source": [
    "import java.io.File\n",
    "import kotlin.io.path.Path\n",
    "import kotlin.io.path.listDirectoryEntries\n",
    "import kotlin.io.path.walk\n",
    "import java.io.IOException\n",
    "import java.util.concurrent.TimeUnit\n",
    "\n",
    "val ignoredIssues = listOf(\"issue_2\", \"issue_2490\")\n",
    "val instances = File(\"instances\")\n",
    "    .walk()\n",
    "    .filter { it.isDirectory && (it.name.startsWith(\"f\") || it.name.startsWith(\"v\")) }\n",
    "    .filter { ignoredIssues.all { issue -> !it.parent.endsWith(issue) } }\n",
    "    .map { it.toPath() }\n",
    "\n",
    "data class CommandOutput(val stdout: String, val stderr: String)\n",
    "\n",
    "fun String.runCommand(workingDir: File): CommandOutput? = runBlocking(Dispatchers.IO) {\n",
    "    withTimeout(2.hours) {\n",
    "        val proc = ProcessBuilder(*split(\" \").toTypedArray()).directory(workingDir).start()\n",
    "\n",
    "        try {\n",
    "            val stdout = async { runInterruptible { proc.inputReader().use { it.readText() } } }\n",
    "            val stderr = async { runInterruptible { proc.errorReader().use { it.readText() } } }\n",
    "\n",
    "            runInterruptible { proc.waitFor() }\n",
    "\n",
    "            CommandOutput(stdout = stdout.await(), stderr = stderr.await())\n",
    "        } catch (e: IOException) {\n",
    "            e.printStackTrace()\n",
    "            null\n",
    "        } finally {\n",
    "            proc.destroy()\n",
    "        }\n",
    "    }\n",
    "}\n",
    "\n",
    "fun String.runCommandInRoot() = runCommand(File(\"..\"))"
   ],
   "outputs": [],
   "execution_count": 2
  },
  {
   "metadata": {},
   "cell_type": "markdown",
   "source": "## Compile SeRu"
  },
  {
   "metadata": {
    "ExecuteTime": {
     "end_time": "2024-10-29T17:51:05.252080Z",
     "start_time": "2024-10-29T17:50:58.085096Z"
    }
   },
   "cell_type": "code",
   "source": [
    "\"go generate ./...\".runCommandInRoot()\n",
    "\"go build\".runCommandInRoot()"
   ],
   "outputs": [
    {
     "data": {
      "text/plain": [
       "CommandOutput(stdout=, stderr=)"
      ]
     },
     "execution_count": 3,
     "metadata": {},
     "output_type": "execute_result"
    }
   ],
   "execution_count": 3
  },
  {
   "metadata": {},
   "cell_type": "markdown",
   "source": "## Run SeRu"
  },
  {
   "metadata": {
    "ExecuteTime": {
     "end_time": "2024-10-29T17:51:09.965830Z",
     "start_time": "2024-10-29T17:51:09.847429Z"
    }
   },
   "cell_type": "code",
   "source": [
    "import java.nio.file.Path\n",
    "import kotlin.io.path.div\n",
    "import kotlin.io.path.pathString\n",
    "\n",
    "val Path.firstCueFile get() = this / listDirectoryEntries(glob = \"*.cue\").first().fileName\n",
    "val Path.firstScriptFile get() = this / listDirectoryEntries(glob = \"*.sh\").first().fileName\n",
    "fun seruBaseCommand(studyDir: Path, instance: Path) = \"./seru -i ${studyDir / instance.firstCueFile} -t ${studyDir / instance.firstScriptFile} -m\" \n",
    "fun runSeruPersesIn(studyDir: Path, instance: Path) = seruBaseCommand(studyDir, instance).runCommandInRoot()\n",
    "fun runSeruVulcanIn(studyDir: Path, instance: Path) = (seruBaseCommand(studyDir, instance) + \" -r vulcan\").runCommandInRoot()"
   ],
   "outputs": [],
   "execution_count": 4
  },
  {
   "metadata": {
    "ExecuteTime": {
     "end_time": "2024-10-29T17:51:11.822136Z",
     "start_time": "2024-10-29T17:51:11.518889Z"
    }
   },
   "cell_type": "code",
   "source": [
    "import kotlin.io.path.*\n",
    "\n",
    "val studyPath = Path(\"study\")\n",
    "\n",
    "fun moveLatestSeruResultTo(dir: Path) = Path(\"..\")\n",
    "    .listDirectoryEntries(glob = \"seru*\")\n",
    "    .maxBy { it.getLastModifiedTime() }\n",
    "    .moveTo(dir / \"seru_result\")\n",
    "\n",
    "fun saveLogsIfExisting(dir: Path, logs: CommandOutput?) = logs?.let {\n",
    "    (dir / \"log.txt\").writeBytes(it.stdout.toByteArray())\n",
    "    (dir / \"err.txt\").writeBytes(it.stderr.toByteArray())\n",
    "}\n",
    "\n",
    "fun Sequence<Path>.runOnInstances(outputDir: String, runsPerInstance: Int, runCmd: (Path, Path) -> CommandOutput?) {\n",
    "    val totalRuns = toList().size * runsPerInstance\n",
    "    forEachIndexed { index, instance ->\n",
    "        val instanceOutputPath = Path(outputDir) / instance\n",
    "        repeat(runsPerInstance) {\n",
    "            val instanceDir = (instanceOutputPath / \"run_$it\").createDirectories()\n",
    "            val cur = it + (index * runsPerInstance) + 1\n",
    "            println(\"$cur/$totalRuns - Start run for $instanceDir\")\n",
    "\n",
    "            val output = runCmd(studyPath, instance)\n",
    "\n",
    "            moveLatestSeruResultTo(instanceDir)\n",
    "            saveLogsIfExisting(instanceDir, output)\n",
    "        }\n",
    "    }\n",
    "}"
   ],
   "outputs": [],
   "execution_count": 5
  },
  {
   "metadata": {},
   "cell_type": "markdown",
   "source": [
    "#### SeRu + Perses (all instances)\n",
    "\n",
    "Takes around 45m (M1 MacBook Pro)"
   ]
  },
  {
   "metadata": {
    "ExecuteTime": {
     "end_time": "2024-10-29T18:19:30.999233Z",
     "start_time": "2024-10-29T17:51:16.681621Z"
    }
   },
   "cell_type": "code",
   "source": "instances.runOnInstances(outputDir = \"results_perses\",runsPerInstance = 5, runCmd = ::runSeruPersesIn)",
   "outputs": [
    {
     "name": "stdout",
     "output_type": "stream",
     "text": [
      "1/80 - Start run for /Users/markus/Documents/UniProjects/MA/seru/study/results_perses/instances/extra/issue_2_inlined/final/run_0\n",
      "2/80 - Start run for results_perses/instances/extra/issue_2_inlined/final/run_1\n",
      "3/80 - Start run for results_perses/instances/extra/issue_2_inlined/final/run_2\n",
      "4/80 - Start run for results_perses/instances/extra/issue_2_inlined/final/run_3\n",
      "5/80 - Start run for results_perses/instances/extra/issue_2_inlined/final/run_4\n",
      "6/80 - Start run for /Users/markus/Documents/UniProjects/MA/seru/study/results_perses/instances/panic/issue_2584/v1/run_0\n",
      "7/80 - Start run for results_perses/instances/panic/issue_2584/v1/run_1\n",
      "8/80 - Start run for results_perses/instances/panic/issue_2584/v1/run_2\n",
      "9/80 - Start run for results_perses/instances/panic/issue_2584/v1/run_3\n",
      "10/80 - Start run for results_perses/instances/panic/issue_2584/v1/run_4\n",
      "11/80 - Start run for /Users/markus/Documents/UniProjects/MA/seru/study/results_perses/instances/panic/issue_2584/v2/run_0\n",
      "12/80 - Start run for results_perses/instances/panic/issue_2584/v2/run_1\n",
      "13/80 - Start run for results_perses/instances/panic/issue_2584/v2/run_2\n",
      "14/80 - Start run for results_perses/instances/panic/issue_2584/v2/run_3\n",
      "15/80 - Start run for results_perses/instances/panic/issue_2584/v2/run_4\n",
      "16/80 - Start run for /Users/markus/Documents/UniProjects/MA/seru/study/results_perses/instances/panic/issue_2584/final/run_0\n",
      "17/80 - Start run for results_perses/instances/panic/issue_2584/final/run_1\n",
      "18/80 - Start run for results_perses/instances/panic/issue_2584/final/run_2\n",
      "19/80 - Start run for results_perses/instances/panic/issue_2584/final/run_3\n",
      "20/80 - Start run for results_perses/instances/panic/issue_2584/final/run_4\n",
      "21/80 - Start run for /Users/markus/Documents/UniProjects/MA/seru/study/results_perses/instances/panic/issue_2490_inlined/v1/run_0\n",
      "22/80 - Start run for results_perses/instances/panic/issue_2490_inlined/v1/run_1\n",
      "23/80 - Start run for results_perses/instances/panic/issue_2490_inlined/v1/run_2\n",
      "24/80 - Start run for results_perses/instances/panic/issue_2490_inlined/v1/run_3\n",
      "25/80 - Start run for results_perses/instances/panic/issue_2490_inlined/v1/run_4\n",
      "26/80 - Start run for /Users/markus/Documents/UniProjects/MA/seru/study/results_perses/instances/panic/issue_2490_inlined/v2/run_0\n",
      "27/80 - Start run for results_perses/instances/panic/issue_2490_inlined/v2/run_1\n",
      "28/80 - Start run for results_perses/instances/panic/issue_2490_inlined/v2/run_2\n",
      "29/80 - Start run for results_perses/instances/panic/issue_2490_inlined/v2/run_3\n",
      "30/80 - Start run for results_perses/instances/panic/issue_2490_inlined/v2/run_4\n",
      "31/80 - Start run for /Users/markus/Documents/UniProjects/MA/seru/study/results_perses/instances/panic/issue_2490_inlined/final/run_0\n",
      "32/80 - Start run for results_perses/instances/panic/issue_2490_inlined/final/run_1\n",
      "33/80 - Start run for results_perses/instances/panic/issue_2490_inlined/final/run_2\n",
      "34/80 - Start run for results_perses/instances/panic/issue_2490_inlined/final/run_3\n",
      "35/80 - Start run for results_perses/instances/panic/issue_2490_inlined/final/run_4\n",
      "36/80 - Start run for /Users/markus/Documents/UniProjects/MA/seru/study/results_perses/instances/semantic/issue_2218/v1/run_0\n",
      "37/80 - Start run for results_perses/instances/semantic/issue_2218/v1/run_1\n",
      "38/80 - Start run for results_perses/instances/semantic/issue_2218/v1/run_2\n",
      "39/80 - Start run for results_perses/instances/semantic/issue_2218/v1/run_3\n",
      "40/80 - Start run for results_perses/instances/semantic/issue_2218/v1/run_4\n",
      "41/80 - Start run for /Users/markus/Documents/UniProjects/MA/seru/study/results_perses/instances/semantic/issue_2218/v2/run_0\n",
      "42/80 - Start run for results_perses/instances/semantic/issue_2218/v2/run_1\n",
      "43/80 - Start run for results_perses/instances/semantic/issue_2218/v2/run_2\n",
      "44/80 - Start run for results_perses/instances/semantic/issue_2218/v2/run_3\n",
      "45/80 - Start run for results_perses/instances/semantic/issue_2218/v2/run_4\n",
      "46/80 - Start run for /Users/markus/Documents/UniProjects/MA/seru/study/results_perses/instances/semantic/issue_2218/final/run_0\n",
      "47/80 - Start run for results_perses/instances/semantic/issue_2218/final/run_1\n",
      "48/80 - Start run for results_perses/instances/semantic/issue_2218/final/run_2\n",
      "49/80 - Start run for results_perses/instances/semantic/issue_2218/final/run_3\n",
      "50/80 - Start run for results_perses/instances/semantic/issue_2218/final/run_4\n",
      "51/80 - Start run for /Users/markus/Documents/UniProjects/MA/seru/study/results_perses/instances/error/issue_2246/v1/run_0\n",
      "52/80 - Start run for results_perses/instances/error/issue_2246/v1/run_1\n",
      "53/80 - Start run for results_perses/instances/error/issue_2246/v1/run_2\n",
      "54/80 - Start run for results_perses/instances/error/issue_2246/v1/run_3\n",
      "55/80 - Start run for results_perses/instances/error/issue_2246/v1/run_4\n",
      "56/80 - Start run for /Users/markus/Documents/UniProjects/MA/seru/study/results_perses/instances/error/issue_2246/final/run_0\n",
      "57/80 - Start run for results_perses/instances/error/issue_2246/final/run_1\n",
      "58/80 - Start run for results_perses/instances/error/issue_2246/final/run_2\n",
      "59/80 - Start run for results_perses/instances/error/issue_2246/final/run_3\n",
      "60/80 - Start run for results_perses/instances/error/issue_2246/final/run_4\n",
      "61/80 - Start run for /Users/markus/Documents/UniProjects/MA/seru/study/results_perses/instances/error/issue_2473/v1/run_0\n",
      "62/80 - Start run for results_perses/instances/error/issue_2473/v1/run_1\n",
      "63/80 - Start run for results_perses/instances/error/issue_2473/v1/run_2\n",
      "64/80 - Start run for results_perses/instances/error/issue_2473/v1/run_3\n",
      "65/80 - Start run for results_perses/instances/error/issue_2473/v1/run_4\n",
      "66/80 - Start run for /Users/markus/Documents/UniProjects/MA/seru/study/results_perses/instances/error/issue_2473/final/run_0\n",
      "67/80 - Start run for results_perses/instances/error/issue_2473/final/run_1\n",
      "68/80 - Start run for results_perses/instances/error/issue_2473/final/run_2\n",
      "69/80 - Start run for results_perses/instances/error/issue_2473/final/run_3\n",
      "70/80 - Start run for results_perses/instances/error/issue_2473/final/run_4\n",
      "71/80 - Start run for /Users/markus/Documents/UniProjects/MA/seru/study/results_perses/instances/error/issue_2209/v1/run_0\n",
      "72/80 - Start run for results_perses/instances/error/issue_2209/v1/run_1\n",
      "73/80 - Start run for results_perses/instances/error/issue_2209/v1/run_2\n",
      "74/80 - Start run for results_perses/instances/error/issue_2209/v1/run_3\n",
      "75/80 - Start run for results_perses/instances/error/issue_2209/v1/run_4\n",
      "76/80 - Start run for /Users/markus/Documents/UniProjects/MA/seru/study/results_perses/instances/error/issue_2209/final/run_0\n",
      "77/80 - Start run for results_perses/instances/error/issue_2209/final/run_1\n",
      "78/80 - Start run for results_perses/instances/error/issue_2209/final/run_2\n",
      "79/80 - Start run for results_perses/instances/error/issue_2209/final/run_3\n",
      "80/80 - Start run for results_perses/instances/error/issue_2209/final/run_4\n"
     ]
    }
   ],
   "execution_count": 6
  },
  {
   "metadata": {},
   "cell_type": "markdown",
   "source": [
    "#### SeRu + Vulcan (all instances)\n",
    "\n",
    "Takes several 8+ hours, with some timeouts\n",
    "\n",
    "Does not run instance `issue_2246/v1` and `issue_2209/v1` since they timeout after 2h (and even 5h)"
   ]
  },
  {
   "metadata": {
    "ExecuteTime": {
     "end_time": "2024-10-30T08:08:41.126454Z",
     "start_time": "2024-10-30T08:00:40.775338Z"
    }
   },
   "cell_type": "code",
   "source": [
    "val timeoutInstances = listOf(\"issue_2246/v1\", \"issue_2209/v1\")\n",
    "    .joinToString(separator = \"|\", prefix = \"(\", postfix = \")\")\n",
    "instances\n",
    "    .filterNot { it.pathString.matches(\"^.*$timeoutInstances$\".toRegex()) }\n",
    "    .drop(12)\n",
    "    .runOnInstances(outputDir = \"results_vulcan\", runsPerInstance = 5, runCmd = ::runSeruVulcanIn)"
   ],
   "outputs": [
    {
     "name": "stdout",
     "output_type": "stream",
     "text": [
      "1/10 - Start run for /Users/markus/Documents/UniProjects/MA/seru/study/results_vulcan/instances/error/issue_2473/final/run_0\n",
      "2/10 - Start run for results_vulcan/instances/error/issue_2473/final/run_1\n",
      "3/10 - Start run for results_vulcan/instances/error/issue_2473/final/run_2\n",
      "4/10 - Start run for results_vulcan/instances/error/issue_2473/final/run_3\n",
      "5/10 - Start run for results_vulcan/instances/error/issue_2473/final/run_4\n",
      "6/10 - Start run for /Users/markus/Documents/UniProjects/MA/seru/study/results_vulcan/instances/error/issue_2209/final/run_0\n",
      "7/10 - Start run for results_vulcan/instances/error/issue_2209/final/run_1\n",
      "8/10 - Start run for results_vulcan/instances/error/issue_2209/final/run_2\n",
      "9/10 - Start run for results_vulcan/instances/error/issue_2209/final/run_3\n",
      "10/10 - Start run for results_vulcan/instances/error/issue_2209/final/run_4\n"
     ]
    }
   ],
   "execution_count": 9
  },
  {
   "metadata": {},
   "cell_type": "code",
   "outputs": [],
   "execution_count": null,
   "source": ""
  }
 ],
 "metadata": {
  "kernelspec": {
   "display_name": "Kotlin",
   "language": "kotlin",
   "name": "kotlin"
  },
  "language_info": {
   "name": "kotlin",
   "version": "1.9.23",
   "mimetype": "text/x-kotlin",
   "file_extension": ".kt",
   "pygments_lexer": "kotlin",
   "codemirror_mode": "text/x-kotlin",
   "nbconvert_exporter": ""
  }
 },
 "nbformat": 4,
 "nbformat_minor": 0
}
